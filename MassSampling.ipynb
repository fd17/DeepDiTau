{
 "cells": [
  {
   "cell_type": "code",
   "execution_count": 34,
   "metadata": {
    "collapsed": false
   },
   "outputs": [],
   "source": [
    "masses = []\n",
    "\n",
    "fileName = \"TrainingData/training1.csv\"\n",
    "index = 0\n",
    "lines = []\n",
    "with open(fileName, \"r\") as ins:\n",
    "    \n",
    "    for line in ins:\n",
    "        lines.append(line)\n",
    "        masses.append(float(line.split(\",\")[-1]))\n",
    "        index += 1\n",
    "        #print index\n",
    "\n",
    "\n",
    "#Setup for mass sampling\n",
    "rstart = 10\n",
    "rend = 100\n",
    "rdelta = 5\n",
    "massesperrange = 20\n",
    "mranges = []\n",
    "m = 0.0\n",
    "\n",
    "while m < rend:\n",
    "    mranges.append(m)\n",
    "    m+=rdelta\n",
    "    \n",
    "mrange = []\n",
    "for i in xrange(len(mranges)):\n",
    "    mrange.append([])\n",
    "\n",
    "lineindices = []\n",
    "lineindex = -1\n",
    "for mass in masses:\n",
    "    lineindex += 1\n",
    "    for index in xrange(len(mranges)):\n",
    "        if mass >= mranges[index] and mass < mranges[index] + rdelta:\n",
    "            if len(mrange[index]) < massesperrange:\n",
    "                mrange[index].append(mass)\n",
    "                lineindices.append(lineindex)\n",
    "                continue\n",
    "\n",
    "   \n",
    "\n",
    "sampledfilename =  \"TrainingData/training1_sampled.csv\"\n",
    "sampledfile = open(sampledfilename, \"w\")\n",
    "\n",
    "for i in lineindices:\n",
    "    sampledfile.write(lines[i])\n",
    "    \n",
    "sampledfile.close()"
   ]
  },
  {
   "cell_type": "code",
   "execution_count": 28,
   "metadata": {
    "collapsed": false
   },
   "outputs": [
    {
     "name": "stdout",
     "output_type": "stream",
     "text": [
      "3\n",
      "20\n",
      "20\n",
      "20\n",
      "20\n",
      "20\n",
      "20\n",
      "20\n",
      "20\n",
      "20\n",
      "20\n",
      "20\n",
      "20\n",
      "20\n",
      "20\n",
      "20\n",
      "20\n",
      "20\n",
      "20\n",
      "20\n",
      "383\n"
     ]
    }
   ],
   "source": [
    "sampledmasses = []\n",
    "for i in xrange(len(mrange)):\n",
    "    print len(mrange[i])\n",
    "    for m in mrange[i]:\n",
    "        sampledmasses.append(m)\n",
    "        \n",
    "print len(sampledmasses)\n"
   ]
  },
  {
   "cell_type": "code",
   "execution_count": 10,
   "metadata": {
    "collapsed": false
   },
   "outputs": [
    {
     "name": "stderr",
     "output_type": "stream",
     "text": [
      "TROOT::Append:0: RuntimeWarning: Replacing existing TH1: mInv (Potential memory leak).\n"
     ]
    },
    {
     "data": {
      "image/png": "[encoded data removed]",
      "text/plain": [
       "<IPython.core.display.Image object>"
      ]
     },
     "metadata": {},
     "output_type": "display_data"
    }
   ],
   "source": [
    "import ROOT\n",
    "c1 = ROOT.TCanvas()\n",
    "h1 = ROOT.TH1D(\"mInv\", \"\", 30, 10, 100)\n",
    "for m in sampledmasses:\n",
    "    h1.Fill(m)\n",
    "h1.Draw()\n",
    "c1.Draw()"
   ]
  },
  {
   "cell_type": "code",
   "execution_count": 42,
   "metadata": {
    "collapsed": false
   },
   "outputs": [
    {
     "data": {
      "text/plain": [
       "[0.0, 10.0, 20.0, 30.0, 40.0, 50.0, 60.0, 70.0, 80.0, 90.0, 100.0]"
      ]
     },
     "execution_count": 42,
     "metadata": {},
     "output_type": "execute_result"
    }
   ],
   "source": [
    "mranges"
   ]
  },
  {
   "cell_type": "code",
   "execution_count": null,
   "metadata": {
    "collapsed": true
   },
   "outputs": [],
   "source": []
  }
 ],
 "metadata": {
  "kernelspec": {
   "display_name": "Python 2",
   "language": "python",
   "name": "python2"
  },
  "language_info": {
   "codemirror_mode": {
    "name": "ipython",
    "version": 2
   },
   "file_extension": ".py",
   "mimetype": "text/x-python",
   "name": "python",
   "nbconvert_exporter": "python",
   "pygments_lexer": "ipython2",
   "version": "2.7.11"
  }
 },
 "nbformat": 4,
 "nbformat_minor": 0
}
