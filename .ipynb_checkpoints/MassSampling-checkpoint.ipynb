{
 "cells": [
  {
   "cell_type": "code",
   "execution_count": 77,
   "metadata": {
    "collapsed": false
   },
   "outputs": [],
   "source": [
    "masses = []\n",
    "\n",
    "fileName = \"TrainingData/training1.csv\"\n",
    "with open(fileName, \"r\") as ins:\n",
    "    for line in ins:\n",
    "        masses.append(float(line.split(\",\")[-1]))\n",
    "\n",
    "#Setup for mass sampling\n",
    "rstart = 10\n",
    "rend = 100\n",
    "rdelta = 5\n",
    "massesperrange = 40\n",
    "mranges = []\n",
    "m = 0.0\n",
    "\n",
    "while m < rend:\n",
    "    mranges.append(m)\n",
    "    m+=rdelta\n",
    "    \n",
    "mrange = []\n",
    "for i in xrange(len(mranges)):\n",
    "    mrange.append([])\n",
    "    \n",
    "for mass in masses:\n",
    "    for index in xrange(len(mranges)):\n",
    "        if mass >= mranges[index] and mass < mranges[index] + rdelta:\n",
    "            if len(mrange[index]) < massesperrange:\n",
    "                mrange[index].append(mass)\n",
    "                continue"
   ]
  },
  {
   "cell_type": "code",
   "execution_count": 78,
   "metadata": {
    "collapsed": false
   },
   "outputs": [
    {
     "name": "stdout",
     "output_type": "stream",
     "text": [
      "3\n",
      "40\n",
      "40\n",
      "40\n",
      "40\n",
      "40\n",
      "40\n",
      "40\n",
      "40\n",
      "40\n",
      "40\n",
      "40\n",
      "28\n",
      "40\n",
      "40\n",
      "40\n",
      "40\n",
      "40\n",
      "40\n",
      "40\n"
     ]
    }
   ],
   "source": [
    "sampledmasses = []\n",
    "for i in xrange(len(mrange)):\n",
    "    print len(mrange[i])\n",
    "    for m in mrange[i]:\n",
    "        sampledmasses.append(m)"
   ]
  },
  {
   "cell_type": "code",
   "execution_count": 79,
   "metadata": {
    "collapsed": false
   },
   "outputs": [
    {
     "name": "stderr",
     "output_type": "stream",
     "text": [
      "TROOT::Append:0: RuntimeWarning: Replacing existing TH1: mInv (Potential memory leak).\n"
     ]
    },
    {
     "data": {
      "image/png": "[encoded data removed]",
      "text/plain": [
       "<IPython.core.display.Image object>"
      ]
     },
     "metadata": {},
     "output_type": "display_data"
    }
   ],
   "source": [
    "import ROOT\n",
    "c1 = ROOT.TCanvas()\n",
    "h1 = ROOT.TH1D(\"mInv\", \"\", 20, 10, 100)\n",
    "for m in sampledmasses:\n",
    "    h1.Fill(m)\n",
    "h1.Draw()\n",
    "c1.Draw()"
   ]
  },
  {
   "cell_type": "code",
   "execution_count": 42,
   "metadata": {
    "collapsed": false
   },
   "outputs": [
    {
     "data": {
      "text/plain": [
       "[0.0, 10.0, 20.0, 30.0, 40.0, 50.0, 60.0, 70.0, 80.0, 90.0, 100.0]"
      ]
     },
     "execution_count": 42,
     "metadata": {},
     "output_type": "execute_result"
    }
   ],
   "source": [
    "mranges"
   ]
  },
  {
   "cell_type": "code",
   "execution_count": null,
   "metadata": {
    "collapsed": true
   },
   "outputs": [],
   "source": []
  }
 ],
 "metadata": {
  "kernelspec": {
   "display_name": "Python 2",
   "language": "python",
   "name": "python2"
  },
  "language_info": {
   "codemirror_mode": {
    "name": "ipython",
    "version": 2
   },
   "file_extension": ".py",
   "mimetype": "text/x-python",
   "name": "python",
   "nbconvert_exporter": "python",
   "pygments_lexer": "ipython2",
   "version": "2.7.11"
  }
 },
 "nbformat": 4,
 "nbformat_minor": 0
}
