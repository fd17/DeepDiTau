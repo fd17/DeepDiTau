{
 "cells": [
  {
   "cell_type": "code",
   "execution_count": 2,
   "metadata": {
    "collapsed": false
   },
   "outputs": [
    {
     "data": {
      "application/javascript": [
       "require(['codemirror/mode/clike/clike'], function(Clike) { console.log('ROOTaaS - C++ CodeMirror module loaded'); });"
      ]
     },
     "metadata": {},
     "output_type": "display_data"
    },
    {
     "data": {
      "application/javascript": [
       "IPython.CodeCell.config_defaults.highlight_modes['magic_text/x-c++src'] = {'reg':[/^%%cpp/]};"
      ]
     },
     "metadata": {},
     "output_type": "display_data"
    },
    {
     "name": "stdout",
     "output_type": "stream",
     "text": [
      "Welcome to ROOTaaS 6.06/01\n"
     ]
    }
   ],
   "source": [
    "import ROOT\n",
    "import time\n",
    "ROOT.gSystem.Load(\"libDelphes\")\n",
    "\n",
    "ROOT.gInterpreter.Declare('#include \"classes/DelphesClasses.h\"')\n",
    "ROOT.gInterpreter.Declare('#include \"external/ExRootAnalysis/ExRootTreeReader.h\"')\n",
    "import numpy as np"
   ]
  },
  {
   "cell_type": "code",
   "execution_count": 49,
   "metadata": {
    "collapsed": false
   },
   "outputs": [
    {
     "name": "stdout",
     "output_type": "stream",
     "text": [
      "added File ...s/ZToTauTau/ZToTauTau_703.root to chain\n",
      "added File ...s/ZToTauTau/ZToTauTau_704.root to chain\n",
      "added File ...s/ZToTauTau/ZToTauTau_705.root to chain\n",
      "added File ...s/ZToTauTau/ZToTauTau_706.root to chain\n",
      "added File ...s/ZToTauTau/ZToTauTau_707.root to chain\n",
      "added File ...s/ZToTauTau/ZToTauTau_708.root to chain\n",
      "added File ...s/ZToTauTau/ZToTauTau_709.root to chain\n",
      "total number of events: 70000\n",
      "beginning analysis...\n",
      "\n",
      "elapsed time: 874.29 seconds\n",
      "lines written: 14573\n"
     ]
    }
   ],
   "source": [
    "#myFile = \"ztautau_700.root\"\n",
    "myFile1 = \"root://eoscms.cern.ch//eos/cms/store/cmst3/group/dehep/TOPGEN/Delphes/ZToTauTau/ZToTauTau_700.root\"\n",
    "myFile2 = \"root://eoscms.cern.ch//eos/cms/store/cmst3/group/dehep/TOPGEN/Delphes/ZToTauTau/ZToTauTau_701.root\"\n",
    "myFile3 = \"root://eoscms.cern.ch//eos/cms/store/cmst3/group/dehep/TOPGEN/Delphes/ZToTauTau/ZToTauTau_702.root\"\n",
    "myFile4 = \"root://eoscms.cern.ch//eos/cms/store/cmst3/group/dehep/TOPGEN/Delphes/ZToTauTau/ZToTauTau_703.root\"\n",
    "\n",
    "myFiles = []\n",
    "for i in xrange(3,10):\n",
    "    myFiles.append(\"root://eoscms.cern.ch//eos/cms/store/cmst3/group/dehep/TOPGEN/Delphes/ZToTauTau/ZToTauTau_7\"+str(i).zfill(2)+\".root\")\n",
    "\n",
    "\n",
    "def contains(pids, particles):\n",
    "    contained = False\n",
    "    for particle in particles:\n",
    "        if abs(particle.PID) in pids:\n",
    "            contained = True\n",
    "    return contained\n",
    "\n",
    "def containsN(particles, pids, N):\n",
    "    num=0\n",
    "    for particle in particles:\n",
    "        if abs(particle.PID) in pids:\n",
    "            num+=1\n",
    "    if N==num:\n",
    "        return True\n",
    "    else:\n",
    "        return False\n",
    "\n",
    "def weirdDecay(particles):\n",
    "    for particle in particles:\n",
    "        if abs(particle.PID) not in (11,13,211):\n",
    "            return True\n",
    "    return False\n",
    "\n",
    "def belowCutoff(particles, cutoff):\n",
    "    for particle in particles:\n",
    "        if particle.PT < cutoff:\n",
    "            return True\n",
    "    return False\n",
    "\n",
    "    \n",
    "class DecayTypes:\n",
    "    ll=[1,0,0,0]\n",
    "    lh=[0,1,0,0]\n",
    "    hl=[0,0,1,0]\n",
    "    hh=[0,0,0,1]\n",
    "\n",
    "start = time.clock()\n",
    "\n",
    "# Create chain of ROOT trees\n",
    "chain = ROOT.TChain(\"Delphes\")\n",
    "for myfile in myFiles:\n",
    "    chain.Add(myfile)\n",
    "    print \"added File\", \"...\"+myfile[-30:], \"to chain\"\n",
    "\n",
    "\n",
    "# Create object of class ExRootTreeReader\n",
    "treeReader = ROOT.ExRootTreeReader(chain)\n",
    "numberOfEntries = treeReader.GetEntries()\n",
    "#print numberOfEntries\n",
    "# Get pointers to branches used in this analysis\n",
    "genParticle = treeReader.UseBranch(\"Particle\")\n",
    "genMissingET = treeReader.UseBranch(\"GenMissingET\")\n",
    "MissingET = treeReader.UseBranch(\"MissingET\")\n",
    "\n",
    "\n",
    "\n",
    "\n",
    "\n",
    "masses = []\n",
    "\n",
    "#PT visible cutoff\n",
    "PTcutoff = 20\n",
    "\n",
    "trainingFile = open(\"TrainingData/training1.csv\", \"w+\")\n",
    "writtenlines = 0\n",
    "\n",
    "print \"total number of events:\", numberOfEntries\n",
    "\n",
    "print \"beginning analysis...\"\n",
    "\n",
    "#numberOfEntries = 300\n",
    "for entry in xrange(0, numberOfEntries):\n",
    "    \n",
    "    #debug output\n",
    "    print \"event: \" + str(entry) + \" written lines \" + str(writtenlines), \" \\r\",\n",
    "    \n",
    "    # Copy value into memory and verify\n",
    "    treeReader.ReadEntry(entry)\n",
    "    nParticles = genParticle.GetEntries()\n",
    "    if(nParticles <=0):\n",
    "        continue\n",
    "       \n",
    "    taus=[]\n",
    "    for index in xrange(nParticles):\n",
    "        particle = genParticle.At(index)\n",
    "        if  abs(particle.PID) == 15:\n",
    "            if not 15 in (abs(genParticle.At(particle.D1).PID), abs(genParticle.At(particle.D2).PID)):\n",
    "                taus.append(index)\n",
    "                \n",
    "    if len(taus) != 2:\n",
    "        continue\n",
    "       \n",
    "    decays=[]\n",
    "    \n",
    "    for tau in taus:\n",
    "        decayParticles = []\n",
    "        for particle in genParticle:\n",
    "            if tau in (particle.M1, particle.M2):\n",
    "                decayParticles.append(particle)\n",
    "        decays.append(decayParticles)\n",
    "        \n",
    "    visdecays=[]\n",
    "    total4mom = ROOT.TLorentzVector()\n",
    "    \n",
    "        \n",
    "    for decayParticles in decays:\n",
    "        for particle in decayParticles:\n",
    "            p4mom = ROOT.TLorentzVector()\n",
    "            p4mom.SetE(particle.E)\n",
    "            p4mom.SetPx(particle.Px)\n",
    "            p4mom.SetPy(particle.Py)\n",
    "            p4mom.SetPz(particle.Pz) \n",
    "            total4mom += p4mom\n",
    "            \n",
    "            if abs(particle.PID) not in (12,14,16):\n",
    "                visdecays.append(particle)\n",
    "                \n",
    "    if len(visdecays) != 2:\n",
    "        continue\n",
    "    \n",
    "    if weirdDecay(visdecays):\n",
    "        continue\n",
    "    \n",
    "    trainingline = \"\"    \n",
    "    \n",
    "    if abs(visdecays[0].PID) in (11,13):\n",
    "        if abs(visdecays[1].PID) in (11,13):\n",
    "            decayType = DecayTypes.ll\n",
    "        else:\n",
    "            decayType = DecayTypes.lh\n",
    "            \n",
    "    elif abs(visdecays[1].PID) in (11,13):\n",
    "            decayType = DecayTypes.hl\n",
    "    else:\n",
    "            decayType = DecayTypes.hh\n",
    "    \n",
    "    trainingline = \",\".join(map(str, decayType)) + \",\"    \n",
    "\n",
    "    \n",
    "    p1mom = [ visdecays[0].PT, visdecays[0].Eta, visdecays[0].Phi, visdecays[0].Mass ]\n",
    "    p2mom = [ visdecays[1].PT, visdecays[1].Eta, visdecays[1].Phi, visdecays[1].Mass ]\n",
    "    met = [genMissingET.At(0).MET, genMissingET.At(0).Eta, genMissingET.At(0).Phi ]\n",
    "    \n",
    "    trainingline += \",\".join(map(str, p1mom)) +\",\"\n",
    "    trainingline += \",\".join(map(str, p1mom)) +\",\"\n",
    "    trainingline += \",\".join(map(str, met)) +\",\"\n",
    "    \n",
    "    #print \"event written:\", entry \n",
    "    mass = total4mom.M()\n",
    "\n",
    "    '''\n",
    "    #Mass sampling\n",
    "    lengths = []\n",
    "    for i in xrange(0,len(mrange)):\n",
    "        lengths.append(len(mrange[i]))\n",
    "    \n",
    "    #average no of masses per interval and std deviation\n",
    "    lavg = np.average(lengths)\n",
    "    lstd = np.std(lengths)\n",
    "    if lstd == 0:\n",
    "        lstd = 1\n",
    "        \n",
    "    \n",
    "    #try to limit mass count fluctuation ot 1 std\n",
    "    rangeFull = False\n",
    "    for index in xrange(len(mranges)):\n",
    "        if mass >= mranges[index] and mass < mranges[index] + rdelta:\n",
    "            if(len(mrange[index]) <= lavg+lstd ):\n",
    "                mrange[index].append(mass)\n",
    "                continue\n",
    "            else:\n",
    "                rangeFull = True\n",
    "    '''\n",
    "    \n",
    "\n",
    "    masses.append(mass)\n",
    "    trainingline+=str(mass)\n",
    "    trainingFile.write(trainingline+\"\\n\")\n",
    "    writtenlines += 1\n",
    "        \n",
    "    \n",
    "print \"\"\n",
    "trainingFile.close()\n",
    "print \"elapsed time:\", time.clock()-start, \"seconds\"\n",
    "print \"lines written:\",writtenlines"
   ]
  },
  {
   "cell_type": "code",
   "execution_count": 59,
   "metadata": {
    "collapsed": false
   },
   "outputs": [],
   "source": [
    "#fileName = \"TrainingData/training.csv\"\n",
    "with open(fileName, \"r\") as ins:\n",
    "    masses = []\n",
    "    for line in ins:\n",
    "        masses.append(float(line.split(\",\")[-1].rstrip('\\n')) )\n"
   ]
  },
  {
   "cell_type": "code",
   "execution_count": 65,
   "metadata": {
    "collapsed": false
   },
   "outputs": [
    {
     "name": "stderr",
     "output_type": "stream",
     "text": [
      "TROOT::Append:0: RuntimeWarning: Replacing existing TH1: hist (Potential memory leak).\n"
     ]
    },
    {
     "data": {
      "image/png": "[encoded data removed]",
      "text/plain": [
       "<IPython.core.display.Image object>"
      ]
     },
     "metadata": {},
     "output_type": "display_data"
    }
   ],
   "source": [
    "c1=ROOT.TCanvas()\n",
    "h1 = ROOT.TH1D(\"hist\", \"\", 10, 0, 150)\n",
    "for m in masses:\n",
    "    h1.Fill(m)\n",
    "h1.Draw()\n",
    "c1.Draw()"
   ]
  },
  {
   "cell_type": "code",
   "execution_count": 37,
   "metadata": {
    "collapsed": false
   },
   "outputs": [],
   "source": [
    "\n",
    "rstart = 0\n",
    "rend = 150\n",
    "rdelta = 10\n",
    "massesperrange = 100\n",
    "mranges = []\n",
    "m = 0.0\n",
    "\n",
    "\n",
    "\n",
    "while m < rend:\n",
    "    mranges.append(m)\n",
    "    m+=rdelta\n",
    "    \n",
    "mrange = []\n",
    "for i in xrange(len(mranges)):\n",
    "    mrange.append([])\n",
    "    \n",
    "masses = []\n",
    "for i in xrange(1000):\n",
    "    masses.append(np.random.rand(1,1)[0][0]*150)\n",
    "    \n",
    "for mass in masses:\n",
    "    lengths = []\n",
    "    for i in xrange(0,len(mrange)):\n",
    "        lengths.append(len(mrange[i]))\n",
    "\n",
    "    lavg = np.average(lengths)\n",
    "    lstd = np.std(lengths)\n",
    "    if lstd == 0:\n",
    "        lstd = 1\n",
    "    \n",
    "    for index in xrange(len(mranges)):\n",
    "        if mass >= mranges[index] and mass < mranges[index] + rdelta:\n",
    "            if(len(mrange[index]) <= lavg+lstd ):\n",
    "                mrange[index].append(mass)\n",
    "                continue\n",
    "            "
   ]
  },
  {
   "cell_type": "code",
   "execution_count": 44,
   "metadata": {
    "collapsed": false
   },
   "outputs": [
    {
     "data": {
      "text/plain": [
       "56"
      ]
     },
     "execution_count": 44,
     "metadata": {},
     "output_type": "execute_result"
    }
   ],
   "source": [
    "lengths = []\n",
    "for i in xrange(0,len(mrange)):\n",
    "    lengths.append(len(mrange[i]))\n",
    "\n",
    "np.average(lengths)\n",
    "np.std(lengths)\n",
    "len(mrange[6])"
   ]
  },
  {
   "cell_type": "code",
   "execution_count": 3,
   "metadata": {
    "collapsed": false
   },
   "outputs": [],
   "source": [
    "myFiles = []\n",
    "for i in xrange(0,10):\n",
    "    myFiles.append(\"root://eoscms.cern.ch//eos/cms/store/cmst3/group/dehep/TOPGEN/Delphes/ZToTauTau/ZToTauTau_7\"+str(i).zfill(2)+\".root\")\n"
   ]
  },
  {
   "cell_type": "code",
   "execution_count": 8,
   "metadata": {
    "collapsed": false
   },
   "outputs": [
    {
     "data": {
      "text/plain": [
       "<ROOT.TNetXNGFile object (\"root://eoscms.cern.ch//eos/cms/store/cmst3/group/dehep/TOPGEN/Delphes/ZToTauTau/ZToTauTau_701.root\") at 0x7ac6920>"
      ]
     },
     "execution_count": 8,
     "metadata": {},
     "output_type": "execute_result"
    }
   ],
   "source": [
    "ROOT.TFile.Open(myFiles[1])\n"
   ]
  },
  {
   "cell_type": "code",
   "execution_count": 47,
   "metadata": {
    "collapsed": false
   },
   "outputs": [
    {
     "data": {
      "text/plain": [
       "3.6000000000000001"
      ]
     },
     "execution_count": 47,
     "metadata": {},
     "output_type": "execute_result"
    }
   ],
   "source": [
    "np.average(lengths)"
   ]
  },
  {
   "cell_type": "code",
   "execution_count": null,
   "metadata": {
    "collapsed": true
   },
   "outputs": [],
   "source": []
  }
 ],
 "metadata": {
  "kernelspec": {
   "display_name": "Python 2",
   "language": "python",
   "name": "python2"
  },
  "language_info": {
   "codemirror_mode": {
    "name": "ipython",
    "version": 2
   },
   "file_extension": ".py",
   "mimetype": "text/x-python",
   "name": "python",
   "nbconvert_exporter": "python",
   "pygments_lexer": "ipython2",
   "version": "2.7.11"
  }
 },
 "nbformat": 4,
 "nbformat_minor": 0
}
